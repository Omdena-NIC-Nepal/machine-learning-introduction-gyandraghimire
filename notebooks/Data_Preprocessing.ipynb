{
 "cells": [
  {
   "cell_type": "markdown",
   "id": "44cc2667-9f56-4280-a055-ea46d5f2e70e",
   "metadata": {},
   "source": [
    "## Task 2: Data Preprocessing"
   ]
  },
  {
   "cell_type": "code",
   "execution_count": 1,
   "id": "6a8c9168-7294-495e-b457-a92a12bbcfd2",
   "metadata": {},
   "outputs": [],
   "source": [
    "!pip install scipy\n",
    "!pip install scikit-learn\n"
   ]
  },
  {
   "cell_type": "markdown",
   "id": "16019e9a-fbb9-4a33-bf60-a3ebbfb3db31",
   "metadata": {},
   "source": [
    "### 1. Handle Missing Values and Outliers"
   ]
  },
  {
   "cell_type": "markdown",
   "id": "fb8a9b3a-49d3-4758-ba16-02be141e4a7d",
   "metadata": {},
   "source": [
    "#### Check for missing values in the dataset"
   ]
  },
  {
   "cell_type": "code",
   "execution_count": 2,
   "id": "7e74c35a-d1a9-4131-af07-cfa57ef14862",
   "metadata": {},
   "outputs": [
    {
     "name": "stdout",
     "output_type": "stream",
     "text": [
      "crim       0\n",
      "zn         0\n",
      "indus      0\n",
      "chas       0\n",
      "nox        0\n",
      "rm         5\n",
      "age        0\n",
      "dis        0\n",
      "rad        0\n",
      "tax        0\n",
      "ptratio    0\n",
      "b          0\n",
      "lstat      0\n",
      "medv       0\n",
      "dtype: int64\n"
     ]
    }
   ],
   "source": [
    "import pandas as pd\n",
    "\n",
    "# Load the dataset\n",
    "df = pd.read_csv(\"../data/boston_housing.csv\")\n",
    "\n",
    "# Check for missing values\n",
    "print(df.isnull().sum())\n"
   ]
  },
  {
   "cell_type": "markdown",
   "id": "e8b08cda-9770-4799-8ae8-85ec89f9e6a4",
   "metadata": {},
   "source": [
    "##### Distribution of 'rm' (Average Number of Rooms per Dwelling)"
   ]
  },
  {
   "cell_type": "code",
   "execution_count": 3,
   "id": "b52eb94c-ebc1-438b-8377-6b9b9f653220",
   "metadata": {},
   "outputs": [
    {
     "name": "stdout",
     "output_type": "stream",
     "text": [
      "Skewness of 'rm': 0.4034215968136547\n"
     ]
    },
    {
     "data": {
      "image/png": "[encoded data removed]",
      "text/plain": [
       "<Figure size 640x480 with 1 Axes>"
      ]
     },
     "metadata": {},
     "output_type": "display_data"
    }
   ],
   "source": [
    "import pandas as pd\n",
    "import seaborn as sns\n",
    "import matplotlib.pyplot as plt\n",
    "\n",
    "# Calculate skewness for the 'rm' feature\n",
    "rm_skewness = df['rm'].skew()\n",
    "\n",
    "# Display the skewness value\n",
    "print(f\"Skewness of 'rm': {rm_skewness}\")\n",
    "\n",
    "# Plot the distribution of the 'rm' feature\n",
    "sns.histplot(df['rm'], kde=True, color='skyblue', bins=20)\n",
    "plt.title(\"Distribution of 'rm' (Average Number of Rooms per Dwelling)\")\n",
    "plt.xlabel('rm')\n",
    "plt.ylabel('Frequency')\n",
    "plt.show()\n"
   ]
  },
  {
   "cell_type": "markdown",
   "id": "5a5ac6a9-8354-499f-9852-01bfa17737a3",
   "metadata": {},
   "source": [
    "##### Impute Missing Values"
   ]
  },
  {
   "cell_type": "code",
   "execution_count": 4,
   "id": "41339ec6-d21a-4ab0-8793-4c1e663cc4e7",
   "metadata": {},
   "outputs": [
    {
     "name": "stdout",
     "output_type": "stream",
     "text": [
      "crim       0\n",
      "zn         0\n",
      "indus      0\n",
      "chas       0\n",
      "nox        0\n",
      "rm         0\n",
      "age        0\n",
      "dis        0\n",
      "rad        0\n",
      "tax        0\n",
      "ptratio    0\n",
      "b          0\n",
      "lstat      0\n",
      "medv       0\n",
      "dtype: int64\n"
     ]
    }
   ],
   "source": [
    "# Impute missing values in 'rm' column with the median\n",
    "df['rm'] = df['rm'].fillna(df['rm'].median())\n",
    "\n",
    "# Verify that missing values are handled\n",
    "print(df.isnull().sum())\n"
   ]
  },
  {
   "cell_type": "markdown",
   "id": "8e8d24cf-e9a2-4f1f-b1f4-66b85ed3f700",
   "metadata": {},
   "source": [
    "#### Handling Outliers"
   ]
  },
  {
   "cell_type": "markdown",
   "id": "43f250d1-2585-4b8d-ac3e-284201a11993",
   "metadata": {},
   "source": [
    "##### Detect outliers using the Interquartile Range (IQR) method"
   ]
  },
  {
   "cell_type": "code",
   "execution_count": 5,
   "id": "22072ba9-4bf7-4ea8-91ba-bc71cf069969",
   "metadata": {},
   "outputs": [
    {
     "name": "stdout",
     "output_type": "stream",
     "text": [
      "crim       66\n",
      "zn         68\n",
      "indus       0\n",
      "chas       35\n",
      "nox         0\n",
      "rm         30\n",
      "age         0\n",
      "dis         5\n",
      "rad         0\n",
      "tax         0\n",
      "ptratio    15\n",
      "b          77\n",
      "lstat       7\n",
      "medv       40\n",
      "dtype: int64\n"
     ]
    }
   ],
   "source": [
    "import numpy as np\n",
    "\n",
    "# Compute Q1 (25th percentile) and Q3 (75th percentile)\n",
    "Q1 = df.quantile(0.25)\n",
    "Q3 = df.quantile(0.75)\n",
    "IQR = Q3 - Q1  # Interquartile Range\n",
    "\n",
    "# Define lower and upper bounds\n",
    "lower_bound = Q1 - 1.5 * IQR\n",
    "upper_bound = Q3 + 1.5 * IQR\n",
    "\n",
    "# Identify outliers\n",
    "outliers = (df < lower_bound) | (df > upper_bound)\n",
    "print(outliers.sum())  # Count of outliers per column\n"
   ]
  },
  {
   "cell_type": "markdown",
   "id": "983a75da-5f1f-4772-b304-37a9bc3d6ace",
   "metadata": {},
   "source": [
    "##### Square Root Transformation"
   ]
  },
  {
   "cell_type": "code",
   "execution_count": 6,
   "id": "e8507e31-0c3f-4d9e-9565-4231c974d94e",
   "metadata": {},
   "outputs": [
    {
     "name": "stdout",
     "output_type": "stream",
     "text": [
      "       crim        zn     indus  chas       nox        rm       age       dis  \\\n",
      "0  0.079498  4.242641  1.519868   0.0  0.733485  2.564176  8.074652  2.022375   \n",
      "1  0.165257  0.000000  2.658947   0.0  0.684836  2.533969  8.882567  2.228699   \n",
      "2  0.165197  0.000000  2.658947   0.0  0.684836  2.680485  7.816649  2.228699   \n",
      "3  0.179917  0.000000  1.476482   0.0  0.676757  2.645373  6.767570  2.462154   \n",
      "4  0.262774  0.000000  1.476482   0.0  0.676757  2.673387  7.362065  2.462154   \n",
      "\n",
      "        rad        tax   ptratio          b     lstat      medv  \n",
      "0  1.000000  17.204651  3.911521  19.922349  2.231591  4.898979  \n",
      "1  1.414214  15.556349  4.219005  19.922349  3.023243  4.647580  \n",
      "2  1.414214  15.556349  4.219005  19.819939  2.007486  5.890671  \n",
      "3  1.732051  14.899664  4.324350  19.865296  1.714643  5.779273  \n",
      "4  1.732051  14.899664  4.324350  19.922349  2.308679  6.016644  \n"
     ]
    }
   ],
   "source": [
    "# Apply square root transformation\n",
    "df_sqrt_transformed = df.copy()\n",
    "df_sqrt_transformed = np.sqrt(df_sqrt_transformed)\n",
    "\n",
    "# Check the transformed data\n",
    "print(df_sqrt_transformed.head())\n"
   ]
  },
  {
   "cell_type": "markdown",
   "id": "cbade9d4-cde0-425a-84d0-1bcbcfe1bbb3",
   "metadata": {},
   "source": [
    "### 2. Encode Categorical Variables"
   ]
  },
  {
   "cell_type": "markdown",
   "id": "87bc778f-10f5-4d90-9228-564dd5530403",
   "metadata": {},
   "source": [
    "##### One-Hot Encoding"
   ]
  },
  {
   "cell_type": "code",
   "execution_count": 7,
   "id": "b8a1abed-3284-4ab7-8893-2b4286e447b8",
   "metadata": {},
   "outputs": [
    {
     "name": "stdout",
     "output_type": "stream",
     "text": [
      "      crim    zn  indus    nox     rm   age     dis  rad  tax  ptratio  \\\n",
      "0  0.00632  18.0   2.31  0.538  6.575  65.2  4.0900    1  296     15.3   \n",
      "1  0.02731   0.0   7.07  0.469  6.421  78.9  4.9671    2  242     17.8   \n",
      "2  0.02729   0.0   7.07  0.469  7.185  61.1  4.9671    2  242     17.8   \n",
      "3  0.03237   0.0   2.18  0.458  6.998  45.8  6.0622    3  222     18.7   \n",
      "4  0.06905   0.0   2.18  0.458  7.147  54.2  6.0622    3  222     18.7   \n",
      "\n",
      "        b  lstat  medv  chas_1  \n",
      "0  396.90   4.98  24.0   False  \n",
      "1  396.90   9.14  21.6   False  \n",
      "2  392.83   4.03  34.7   False  \n",
      "3  394.63   2.94  33.4   False  \n",
      "4  396.90   5.33  36.2   False  \n"
     ]
    }
   ],
   "source": [
    "import pandas as pd\n",
    "\n",
    "# Load the dataset\n",
    "df = pd.read_csv('../data/boston_housing.csv')\n",
    "\n",
    "# Strip spaces in column names, if any\n",
    "df.columns = df.columns.str.strip()\n",
    "\n",
    "# One-Hot Encode the 'chas' column\n",
    "df = pd.get_dummies(df, columns=['chas'], drop_first=True)\n",
    "\n",
    "# Check the first few rows to verify the transformation\n",
    "print(df.head())\n"
   ]
  },
  {
   "cell_type": "markdown",
   "id": "021ec794-3808-49ee-aa52-26670a282f66",
   "metadata": {},
   "source": [
    "### 3. Normalize/Standardize Numerical Features"
   ]
  },
  {
   "cell_type": "markdown",
   "id": "ea58ee9d-2774-40a5-8b4e-d9165e526c6b",
   "metadata": {},
   "source": [
    "##### Standardization (Z-score Scaling)"
   ]
  },
  {
   "cell_type": "code",
   "execution_count": 7,
   "id": "3dfa97e8-7f00-4a63-a66c-59e85eaa0346",
   "metadata": {},
   "outputs": [
    {
     "name": "stdout",
     "output_type": "stream",
     "text": [
      "       crim        zn     indus       nox        rm       age       dis  \\\n",
      "0 -0.419782  0.284830 -1.287909 -0.144217  0.412351 -0.120013  0.140214   \n",
      "1 -0.417339 -0.487722 -0.593381 -0.740262  0.193874  0.367166  0.557160   \n",
      "2 -0.417342 -0.487722 -0.593381 -0.740262  1.277743 -0.265812  0.557160   \n",
      "3 -0.416750 -0.487722 -1.306878 -0.835284  1.012451 -0.809889  1.077737   \n",
      "4 -0.412482 -0.487722 -1.306878 -0.835284  1.223834 -0.511180  1.077737   \n",
      "\n",
      "        rad       tax   ptratio         b     lstat  medv  chas_1  \n",
      "0 -0.982843 -0.666608 -1.459000  0.441052 -1.075562  24.0   False  \n",
      "1 -0.867883 -0.987329 -0.303094  0.441052 -0.492439  21.6   False  \n",
      "2 -0.867883 -0.987329 -0.303094  0.396427 -1.208727  34.7   False  \n",
      "3 -0.752922 -1.106115  0.113032  0.416163 -1.361517  33.4   False  \n",
      "4 -0.752922 -1.106115  0.113032  0.441052 -1.026501  36.2   False  \n"
     ]
    }
   ],
   "source": [
    "import pandas as pd\n",
    "from sklearn.preprocessing import StandardScaler\n",
    "\n",
    "# Load the dataset\n",
    "df = pd.read_csv('../data/boston_housing.csv')\n",
    "\n",
    "# Strip spaces from column names (if any)\n",
    "df.columns = df.columns.str.strip()\n",
    "\n",
    "# One-Hot Encode the 'chas' column\n",
    "df = pd.get_dummies(df, columns=['chas'], drop_first=True)\n",
    "\n",
    "# Define the list of numerical features (excluding target variable 'medv')\n",
    "num_features = ['crim', 'zn', 'indus', 'nox', 'rm', 'age', 'dis', 'rad', 'tax', 'ptratio', 'b', 'lstat']\n",
    "\n",
    "# Initialize the StandardScaler\n",
    "scaler = StandardScaler()\n",
    "\n",
    "# Fit and transform the numerical features\n",
    "df[num_features] = scaler.fit_transform(df[num_features])\n",
    "\n",
    "# Check the transformed dataset\n",
    "print(df.head())\n"
   ]
  },
  {
   "cell_type": "markdown",
   "id": "53006a86-895b-4255-81c7-f5b043b438a1",
   "metadata": {},
   "source": [
    "### 4. Split the Data into Training and Testing Sets"
   ]
  },
  {
   "cell_type": "code",
   "execution_count": 8,
   "id": "e37d3d31-009a-4a3b-8261-c811608b4d88",
   "metadata": {},
   "outputs": [
    {
     "name": "stdout",
     "output_type": "stream",
     "text": [
      "Training set X shape: (404, 12)\n",
      "Testing set X shape: (102, 12)\n",
      "Training set y shape: (404,)\n",
      "Testing set y shape: (102,)\n"
     ]
    }
   ],
   "source": [
    "from sklearn.model_selection import train_test_split\n",
    "\n",
    "# Separate features (X) and target variable (y)\n",
    "X = df.drop(columns=['medv', 'chas_1'])  # Features (exclude 'medv' and the 'chas_1' target column)\n",
    "y = df['medv']  # Target variable (housing prices)\n",
    "\n",
    "# Split the data into training and testing sets (80% train, 20% test)\n",
    "X_train, X_test, y_train, y_test = train_test_split(X, y, test_size=0.2, random_state=42)\n",
    "\n",
    "# Check the dimensions of the split data\n",
    "print(\"Training set X shape:\", X_train.shape)\n",
    "print(\"Testing set X shape:\", X_test.shape)\n",
    "print(\"Training set y shape:\", y_train.shape)\n",
    "print(\"Testing set y shape:\", y_test.shape)\n"
   ]
  }
 ],
 "metadata": {
  "kernelspec": {
   "display_name": "Python (venv)",
   "language": "python",
   "name": "venv"
  },
  "language_info": {
   "codemirror_mode": {
    "name": "ipython",
    "version": 3
   },
   "file_extension": ".py",
   "mimetype": "text/x-python",
   "name": "python",
   "nbconvert_exporter": "python",
   "pygments_lexer": "ipython3",
   "version": "3.13.1"
  }
 },
 "nbformat": 4,
 "nbformat_minor": 5
}
